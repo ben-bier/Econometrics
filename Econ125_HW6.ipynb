{
  "nbformat": 4,
  "nbformat_minor": 0,
  "metadata": {
    "colab": {
      "provenance": []
    },
    "kernelspec": {
      "name": "python3",
      "display_name": "Python 3"
    },
    "language_info": {
      "name": "python"
    }
  },
  "cells": [
    {
      "cell_type": "markdown",
      "source": [
        "Benjamin Bierlein 7641866 Econ 125 Spring 2025 HW 6"
      ],
      "metadata": {
        "id": "fyTW0NxZTaXl"
      }
    },
    {
      "cell_type": "markdown",
      "source": [
        "1)"
      ],
      "metadata": {
        "id": "E3D5uhRjQhpK"
      }
    },
    {
      "cell_type": "code",
      "source": [
        "import pandas as pd\n",
        "import numpy as np\n",
        "import statsmodels.api as sm\n",
        "import statsmodels.formula.api as smf\n",
        "\n",
        "# Load and prepare data\n",
        "mroz_df = pd.read_csv(\"/content/mroz.csv\")\n",
        "mroz_df.rename(columns={\n",
        "    'educ': 'EDU', 'exper': 'EXPER', 'mothereduc': 'MEDU',\n",
        "    'fathereduc': 'FEDU', 'wage': 'WAGE'\n",
        "}, inplace=True)\n",
        "\n",
        "# Filter for valid log(wage)\n",
        "mroz_valid = mroz_df[mroz_df['WAGE'] > 0].copy()\n",
        "mroz_valid['EXPER2'] = mroz_valid['EXPER'] ** 2\n",
        "\n",
        "# Part 1: OLS\n",
        "ols_model = smf.ols('np.log(WAGE) ~ EXPER + EXPER2 + EDU', data=mroz_valid).fit()\n",
        "print(\"OLS Results:\\n\", ols_model.summary())\n",
        "\n",
        "# Part 2: First-stage regression\n",
        "first_stage = smf.ols('EDU ~ EXPER + EXPER2 + MEDU + FEDU', data=mroz_valid).fit()\n",
        "mroz_valid['EDU_hat'] = first_stage.fittedvalues\n",
        "\n",
        "# Second-stage regression (TSLS)\n",
        "second_stage = smf.ols('np.log(WAGE) ~ EXPER + EXPER2 + EDU_hat', data=mroz_valid).fit()\n",
        "print(\"TSLS Results:\\n\", second_stage.summary())\n",
        "\n",
        "# Part 3: Manual TSLS standard errors\n",
        "X = sm.add_constant(mroz_valid[['EXPER', 'EXPER2', 'EDU']])\n",
        "y = np.log(mroz_valid['WAGE'])\n",
        "residuals = y - sm.OLS(y, X).fit().predict(X)\n",
        "sigma_sq = (residuals @ residuals) / (X.shape[0] - X.shape[1])\n",
        "X_hat = sm.add_constant(mroz_valid[['EXPER', 'EXPER2', 'EDU_hat']])\n",
        "var_beta_hat = sigma_sq * np.linalg.inv(X_hat.T @ X_hat)\n",
        "manual_tsls_se = np.sqrt(np.diag(var_beta_hat))\n",
        "\n",
        "print(\"Manual TSLS Standard Errors:\")\n",
        "for name, se in zip(second_stage.params.index, manual_tsls_se):\n",
        "    print(f\"{name}: {se:.5f}\")\n"
      ],
      "metadata": {
        "colab": {
          "base_uri": "https://localhost:8080/"
        },
        "id": "qN9nlQVbQf-3",
        "outputId": "763a1fac-bcc1-4e80-9ee2-7f32d23e6fbf"
      },
      "execution_count": null,
      "outputs": [
        {
          "output_type": "stream",
          "name": "stdout",
          "text": [
            "OLS Results:\n",
            "                             OLS Regression Results                            \n",
            "==============================================================================\n",
            "Dep. Variable:           np.log(WAGE)   R-squared:                       0.157\n",
            "Model:                            OLS   Adj. R-squared:                  0.151\n",
            "Method:                 Least Squares   F-statistic:                     26.29\n",
            "Date:                Sat, 24 May 2025   Prob (F-statistic):           1.30e-15\n",
            "Time:                        03:09:22   Log-Likelihood:                -431.60\n",
            "No. Observations:                 428   AIC:                             871.2\n",
            "Df Residuals:                     424   BIC:                             887.4\n",
            "Df Model:                           3                                         \n",
            "Covariance Type:            nonrobust                                         \n",
            "==============================================================================\n",
            "                 coef    std err          t      P>|t|      [0.025      0.975]\n",
            "------------------------------------------------------------------------------\n",
            "Intercept     -0.5220      0.199     -2.628      0.009      -0.912      -0.132\n",
            "EXPER          0.0416      0.013      3.155      0.002       0.016       0.067\n",
            "EXPER2        -0.0008      0.000     -2.063      0.040      -0.002   -3.82e-05\n",
            "EDU            0.1075      0.014      7.598      0.000       0.080       0.135\n",
            "==============================================================================\n",
            "Omnibus:                       77.792   Durbin-Watson:                   1.961\n",
            "Prob(Omnibus):                  0.000   Jarque-Bera (JB):              300.917\n",
            "Skew:                          -0.753   Prob(JB):                     4.54e-66\n",
            "Kurtosis:                       6.822   Cond. No.                     2.21e+03\n",
            "==============================================================================\n",
            "\n",
            "Notes:\n",
            "[1] Standard Errors assume that the covariance matrix of the errors is correctly specified.\n",
            "[2] The condition number is large, 2.21e+03. This might indicate that there are\n",
            "strong multicollinearity or other numerical problems.\n",
            "TSLS Results:\n",
            "                             OLS Regression Results                            \n",
            "==============================================================================\n",
            "Dep. Variable:           np.log(WAGE)   R-squared:                       0.050\n",
            "Model:                            OLS   Adj. R-squared:                  0.043\n",
            "Method:                 Least Squares   F-statistic:                     7.405\n",
            "Date:                Sat, 24 May 2025   Prob (F-statistic):           7.62e-05\n",
            "Time:                        03:09:22   Log-Likelihood:                -457.17\n",
            "No. Observations:                 428   AIC:                             922.3\n",
            "Df Residuals:                     424   BIC:                             938.6\n",
            "Df Model:                           3                                         \n",
            "Covariance Type:            nonrobust                                         \n",
            "==============================================================================\n",
            "                 coef    std err          t      P>|t|      [0.025      0.975]\n",
            "------------------------------------------------------------------------------\n",
            "Intercept      0.0481      0.420      0.115      0.909      -0.777       0.873\n",
            "EXPER          0.0442      0.014      3.136      0.002       0.016       0.072\n",
            "EXPER2        -0.0009      0.000     -2.134      0.033      -0.002   -7.11e-05\n",
            "EDU_hat        0.0614      0.033      1.863      0.063      -0.003       0.126\n",
            "==============================================================================\n",
            "Omnibus:                       53.587   Durbin-Watson:                   1.959\n",
            "Prob(Omnibus):                  0.000   Jarque-Bera (JB):              168.354\n",
            "Skew:                          -0.551   Prob(JB):                     2.77e-37\n",
            "Kurtosis:                       5.868   Cond. No.                     4.41e+03\n",
            "==============================================================================\n",
            "\n",
            "Notes:\n",
            "[1] Standard Errors assume that the covariance matrix of the errors is correctly specified.\n",
            "[2] The condition number is large, 4.41e+03. This might indicate that there are\n",
            "strong multicollinearity or other numerical problems.\n",
            "Manual TSLS Standard Errors:\n",
            "Intercept: 0.39541\n",
            "EXPER: 0.01327\n",
            "EXPER2: 0.00040\n",
            "EDU_hat: 0.03105\n"
          ]
        }
      ]
    },
    {
      "cell_type": "markdown",
      "source": [
        "The OLS estimate for EDU is 0.108 and highly significant, meaning more education is linked to higher wages. But since EDU might be endogenous (like being tied to unobserved ability), the OLS estimate could be biased. The TSLS estimate, using parental education as instruments, drops to 0.061 and is only marginally significant. This suggests OLS may overstate the return to education. Both models show the expected concave effect of experience on wages—EXPER is positive and EXPER² is negative."
      ],
      "metadata": {
        "id": "3O19Q4swUwmQ"
      }
    },
    {
      "cell_type": "markdown",
      "source": [
        "2)"
      ],
      "metadata": {
        "id": "NNvopxX-Qj8N"
      }
    },
    {
      "cell_type": "code",
      "source": [
        "# Load and prepare data\n",
        "liquor_df = pd.read_csv(\"/content/liquor5.csv\")\n",
        "liquor_df['id'] = np.repeat(np.arange(1, 41), 3)\n",
        "liquor_df['year'] = list(range(1, 4)) * 40\n",
        "liquor_df.sort_values(by=['id', 'year'], inplace=True)\n",
        "\n",
        "# First-difference transformation\n",
        "liquor_df['D_liquor'] = liquor_df.groupby('id')['liquor'].diff()\n",
        "liquor_df['D_income'] = liquor_df.groupby('id')['income'].diff()\n",
        "fd_df = liquor_df.dropna(subset=['D_liquor', 'D_income'])\n",
        "\n",
        "fd_model = smf.ols('D_liquor ~ D_income', data=fd_df).fit(\n",
        "    cov_type='cluster', cov_kwds={'groups': fd_df['id']}\n",
        ")\n",
        "print(\"First-Difference Regression:\\n\", fd_model.summary())\n",
        "\n",
        "# Mean-differencing transformation\n",
        "mean_df = liquor_df.groupby('id')[['liquor', 'income']].transform(lambda x: x - x.mean())\n",
        "mean_df['id'] = liquor_df['id']\n",
        "mean_model = smf.ols('liquor ~ income', data=mean_df).fit(\n",
        "    cov_type='cluster', cov_kwds={'groups': mean_df['id']}\n",
        ")\n",
        "print(\"Mean-Difference Regression:\\n\", mean_model.summary())"
      ],
      "metadata": {
        "colab": {
          "base_uri": "https://localhost:8080/"
        },
        "id": "RpjdnOhFQvh8",
        "outputId": "85bda45c-0c22-4a6b-b752-13b082232b4f"
      },
      "execution_count": null,
      "outputs": [
        {
          "output_type": "stream",
          "name": "stdout",
          "text": [
            "First-Difference Regression:\n",
            "                             OLS Regression Results                            \n",
            "==============================================================================\n",
            "Dep. Variable:               D_liquor   R-squared:                       0.022\n",
            "Model:                            OLS   Adj. R-squared:                  0.009\n",
            "Method:                 Least Squares   F-statistic:                     2.475\n",
            "Date:                Sat, 24 May 2025   Prob (F-statistic):              0.124\n",
            "Time:                        03:10:30   Log-Likelihood:                -140.41\n",
            "No. Observations:                  80   AIC:                             284.8\n",
            "Df Residuals:                      78   BIC:                             289.6\n",
            "Df Model:                           1                                         \n",
            "Covariance Type:              cluster                                         \n",
            "==============================================================================\n",
            "                 coef    std err          z      P>|z|      [0.025      0.975]\n",
            "------------------------------------------------------------------------------\n",
            "Intercept     -0.4029      0.342     -1.179      0.238      -1.072       0.267\n",
            "D_income       0.0981      0.062      1.573      0.116      -0.024       0.220\n",
            "==============================================================================\n",
            "Omnibus:                        0.279   Durbin-Watson:                   2.452\n",
            "Prob(Omnibus):                  0.870   Jarque-Bera (JB):                0.461\n",
            "Skew:                          -0.048   Prob(JB):                        0.794\n",
            "Kurtosis:                       2.641   Cond. No.                         14.3\n",
            "==============================================================================\n",
            "\n",
            "Notes:\n",
            "[1] Standard Errors are robust to cluster correlation (cluster)\n",
            "Mean-Difference Regression:\n",
            "                             OLS Regression Results                            \n",
            "==============================================================================\n",
            "Dep. Variable:                 liquor   R-squared:                       0.012\n",
            "Model:                            OLS   Adj. R-squared:                  0.004\n",
            "Method:                 Least Squares   F-statistic:                     1.130\n",
            "Date:                Sat, 24 May 2025   Prob (F-statistic):              0.294\n",
            "Time:                        03:10:30   Log-Likelihood:                -142.99\n",
            "No. Observations:                 120   AIC:                             290.0\n",
            "Df Residuals:                     118   BIC:                             295.6\n",
            "Df Model:                           1                                         \n",
            "Covariance Type:              cluster                                         \n",
            "==============================================================================\n",
            "                 coef    std err          z      P>|z|      [0.025      0.975]\n",
            "------------------------------------------------------------------------------\n",
            "Intercept  -6.592e-17   4.39e-17     -1.503      0.133   -1.52e-16    2.01e-17\n",
            "income         0.0207      0.020      1.063      0.288      -0.017       0.059\n",
            "==============================================================================\n",
            "Omnibus:                        1.945   Durbin-Watson:                   2.670\n",
            "Prob(Omnibus):                  0.378   Jarque-Bera (JB):                1.499\n",
            "Skew:                           0.070   Prob(JB):                        0.473\n",
            "Kurtosis:                       2.471   Cond. No.                         4.29\n",
            "==============================================================================\n",
            "\n",
            "Notes:\n",
            "[1] Standard Errors are robust to cluster correlation (cluster)\n"
          ]
        }
      ]
    },
    {
      "cell_type": "markdown",
      "source": [
        "Both differencing methods control for fixed household traits. The FD estimate is 0.098 and the mean-diff estimate is 0.021, but neither are statistically significant. This means there’s weak evidence that income changes affect liquor spending. The FD result might be more reliable since it focuses on changes within households. Low R² in both models shows income alone doesn’t explain much of the variation."
      ],
      "metadata": {
        "id": "JDFZKUK5VLD_"
      }
    },
    {
      "cell_type": "markdown",
      "source": [
        "3)"
      ],
      "metadata": {
        "id": "g3f2MNARQxbQ"
      }
    },
    {
      "cell_type": "code",
      "source": [
        "# Load data and prepare data\n",
        "mexican_df = pd.read_csv(\"/content/mexican.csv\")\n",
        "\n",
        "mexican_df.rename(columns={\n",
        "    'lnprice': 'LNPRICE',\n",
        "    'nocondom': 'NOCONDOM',\n",
        "    'rich': 'RICH',\n",
        "    'regular': 'REGULAR',\n",
        "    'alcohol': 'ALCOHOL'\n",
        "}, inplace=True)\n",
        "mexican_df['ID'] = mexican_df['id'].astype('category')\n",
        "\n",
        "# OLS regression\n",
        "ols_model = smf.ols('LNPRICE ~ RICH + REGULAR + ALCOHOL + NOCONDOM + bar + street + othersite', data=mexican_df).fit()\n",
        "\n",
        "# Fixed Effects (omit sex worker characteristics, use ID dummies)\n",
        "fe_model = smf.ols('LNPRICE ~ RICH + REGULAR + ALCOHOL + NOCONDOM + bar + street + othersite + C(ID)', data=mexican_df).fit()\n",
        "\n",
        "# 95% CI for NOCONDOM in FE\n",
        "risk_ci = fe_model.conf_int().loc['NOCONDOM']\n",
        "\n",
        "# Output for Exercise 3\n",
        "print(\"\\nExercise 3 - OLS and Fixed Effects Coefficients:\")\n",
        "print(\"OLS Coefficients:\\n\", ols_model.params)\n",
        "print(\"\\nFixed Effects Coefficients:\\n\", fe_model.params.drop(labels=[x for x in fe_model.params.index if x.startswith(\"C(ID)\")]))\n",
        "print(f\"\\n95% CI for Risk Premium (NOCONDOM, FE): {risk_ci.values}\")\n"
      ],
      "metadata": {
        "colab": {
          "base_uri": "https://localhost:8080/"
        },
        "id": "xd70RdLxQywp",
        "outputId": "533bf4ad-6ceb-4116-c419-e995d5a094bb"
      },
      "execution_count": null,
      "outputs": [
        {
          "output_type": "stream",
          "name": "stdout",
          "text": [
            "\n",
            "Exercise 3 - OLS and Fixed Effects Coefficients:\n",
            "OLS Coefficients:\n",
            " Intercept   -1.164438e+12\n",
            "RICH         3.727328e-01\n",
            "REGULAR     -1.325601e-01\n",
            "ALCOHOL      2.595080e-01\n",
            "NOCONDOM    -7.558661e-02\n",
            "bar          1.164438e+12\n",
            "street       1.164438e+12\n",
            "othersite    1.164438e+12\n",
            "dtype: float64\n",
            "\n",
            "Fixed Effects Coefficients:\n",
            " Intercept    3.913135\n",
            "RICH         0.082636\n",
            "REGULAR      0.037219\n",
            "ALCOHOL     -0.056856\n",
            "NOCONDOM     0.170282\n",
            "bar          1.351629\n",
            "street       1.508333\n",
            "othersite    1.053173\n",
            "dtype: float64\n",
            "\n",
            "95% CI for Risk Premium (NOCONDOM, FE): [0.11965418 0.22090984]\n"
          ]
        }
      ]
    },
    {
      "cell_type": "markdown",
      "source": [
        "3 part 1"
      ],
      "metadata": {
        "id": "SEur_CpFWbqW"
      }
    },
    {
      "cell_type": "markdown",
      "source": [
        "The OLS model shows rich clients pay about 37% more and not using a condom lowers the price by 7.5%. But this could be due to unobserved worker traits. After adding fixed effects, the rich effect drops to 8.3%, and the price for unprotected sex jumps to 17%, which is statistically significant. This suggests OLS may underestimate the risk premium because higher-charging workers might also use condoms more."
      ],
      "metadata": {
        "id": "LxG2CNuKWLn0"
      }
    },
    {
      "cell_type": "markdown",
      "source": [
        "3 part 2"
      ],
      "metadata": {
        "id": "gr1vU2IbWerm"
      }
    },
    {
      "cell_type": "markdown",
      "source": [
        "xIn the fixed effects model, we control for unobserved sex worker traits by including individual IDs. The price impact for rich clients drops to about 8.3%, and unprotected sex now increases the price by 17%. This shift shows that once we control for individual differences, the risk premium for unprotected sex becomes larger and statistically significant.\n",
        "\n"
      ],
      "metadata": {
        "id": "ljOqYrZIWgnj"
      }
    },
    {
      "cell_type": "markdown",
      "source": [
        "3 part 3"
      ],
      "metadata": {
        "id": "_1WF_hzOWlnn"
      }
    },
    {
      "cell_type": "markdown",
      "source": [
        "The 95% confidence interval for the risk premium (NOCONDOM) in the fixed effects model is [0.120, 0.221], meaning unprotected sex adds roughly 12% to 22% to the price. This is much higher than the OLS estimate, which supports the idea that failing to control for sex worker characteristics can lead to underestimating the true risk premium."
      ],
      "metadata": {
        "id": "6ycp4HNcWm9B"
      }
    }
  ]
}