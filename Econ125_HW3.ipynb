{
  "nbformat": 4,
  "nbformat_minor": 0,
  "metadata": {
    "colab": {
      "provenance": []
    },
    "kernelspec": {
      "name": "python3",
      "display_name": "Python 3"
    },
    "language_info": {
      "name": "python"
    }
  },
  "cells": [
    {
      "cell_type": "markdown",
      "source": [
        "Benjamin Bierlein 76418644 Econ 125 HW 3 Spring 2025"
      ],
      "metadata": {
        "id": "CXAwkp7o1CYK"
      }
    },
    {
      "cell_type": "code",
      "execution_count": null,
      "metadata": {
        "colab": {
          "base_uri": "https://localhost:8080/",
          "height": 598
        },
        "id": "cxIhi1nKchSQ",
        "outputId": "4247d47f-6f13-4838-d140-966b3837136f"
      },
      "outputs": [
        {
          "output_type": "stream",
          "name": "stdout",
          "text": [
            "   price   sqft  age  pool  fireplace  close  twostory  occupied\n",
            "0   96.5  16.77   10     0          0      0         0         0\n",
            "1  106.0  17.51   10     0          0      0         0         0\n",
            "2  114.0  18.37    9     0          0      0         0         1\n",
            "3  119.9  29.10    9     0          0      0         0         0\n",
            "4  122.7  14.68    9     0          0      0         0         1\n"
          ]
        },
        {
          "output_type": "execute_result",
          "data": {
            "text/plain": [
              "<class 'statsmodels.iolib.summary.Summary'>\n",
              "\"\"\"\n",
              "                            OLS Regression Results                            \n",
              "==============================================================================\n",
              "Dep. Variable:               ln_price   R-squared:                       0.542\n",
              "Model:                            OLS   Adj. R-squared:                  0.539\n",
              "Method:                 Least Squares   F-statistic:                     195.4\n",
              "Date:                Sat, 03 May 2025   Prob (F-statistic):           1.26e-83\n",
              "Time:                        01:52:12   Log-Likelihood:                -169.13\n",
              "No. Observations:                 500   AIC:                             346.3\n",
              "Df Residuals:                     496   BIC:                             363.1\n",
              "Df Model:                           3                                         \n",
              "Covariance Type:            nonrobust                                         \n",
              "=================================================================================\n",
              "                    coef    std err          t      P>|t|      [0.025      0.975]\n",
              "---------------------------------------------------------------------------------\n",
              "Intercept         1.2714      0.186      6.822      0.000       0.905       1.638\n",
              "ln_sqft           1.2410      0.057     21.819      0.000       1.129       1.353\n",
              "close             1.9957      0.306      6.515      0.000       1.394       2.598\n",
              "close_ln_sqft    -0.5560      0.094     -5.910      0.000      -0.741      -0.371\n",
              "==============================================================================\n",
              "Omnibus:                       15.465   Durbin-Watson:                   0.898\n",
              "Prob(Omnibus):                  0.000   Jarque-Bera (JB):               26.764\n",
              "Skew:                          -0.191   Prob(JB):                     1.54e-06\n",
              "Kurtosis:                       4.067   Cond. No.                         84.1\n",
              "==============================================================================\n",
              "\n",
              "Notes:\n",
              "[1] Standard Errors assume that the covariance matrix of the errors is correctly specified.\n",
              "\"\"\""
            ],
            "text/html": [
              "<table class=\"simpletable\">\n",
              "<caption>OLS Regression Results</caption>\n",
              "<tr>\n",
              "  <th>Dep. Variable:</th>        <td>ln_price</td>     <th>  R-squared:         </th> <td>   0.542</td>\n",
              "</tr>\n",
              "<tr>\n",
              "  <th>Model:</th>                   <td>OLS</td>       <th>  Adj. R-squared:    </th> <td>   0.539</td>\n",
              "</tr>\n",
              "<tr>\n",
              "  <th>Method:</th>             <td>Least Squares</td>  <th>  F-statistic:       </th> <td>   195.4</td>\n",
              "</tr>\n",
              "<tr>\n",
              "  <th>Date:</th>             <td>Sat, 03 May 2025</td> <th>  Prob (F-statistic):</th> <td>1.26e-83</td>\n",
              "</tr>\n",
              "<tr>\n",
              "  <th>Time:</th>                 <td>01:52:12</td>     <th>  Log-Likelihood:    </th> <td> -169.13</td>\n",
              "</tr>\n",
              "<tr>\n",
              "  <th>No. Observations:</th>      <td>   500</td>      <th>  AIC:               </th> <td>   346.3</td>\n",
              "</tr>\n",
              "<tr>\n",
              "  <th>Df Residuals:</th>          <td>   496</td>      <th>  BIC:               </th> <td>   363.1</td>\n",
              "</tr>\n",
              "<tr>\n",
              "  <th>Df Model:</th>              <td>     3</td>      <th>                     </th>     <td> </td>   \n",
              "</tr>\n",
              "<tr>\n",
              "  <th>Covariance Type:</th>      <td>nonrobust</td>    <th>                     </th>     <td> </td>   \n",
              "</tr>\n",
              "</table>\n",
              "<table class=\"simpletable\">\n",
              "<tr>\n",
              "        <td></td>           <th>coef</th>     <th>std err</th>      <th>t</th>      <th>P>|t|</th>  <th>[0.025</th>    <th>0.975]</th>  \n",
              "</tr>\n",
              "<tr>\n",
              "  <th>Intercept</th>     <td>    1.2714</td> <td>    0.186</td> <td>    6.822</td> <td> 0.000</td> <td>    0.905</td> <td>    1.638</td>\n",
              "</tr>\n",
              "<tr>\n",
              "  <th>ln_sqft</th>       <td>    1.2410</td> <td>    0.057</td> <td>   21.819</td> <td> 0.000</td> <td>    1.129</td> <td>    1.353</td>\n",
              "</tr>\n",
              "<tr>\n",
              "  <th>close</th>         <td>    1.9957</td> <td>    0.306</td> <td>    6.515</td> <td> 0.000</td> <td>    1.394</td> <td>    2.598</td>\n",
              "</tr>\n",
              "<tr>\n",
              "  <th>close_ln_sqft</th> <td>   -0.5560</td> <td>    0.094</td> <td>   -5.910</td> <td> 0.000</td> <td>   -0.741</td> <td>   -0.371</td>\n",
              "</tr>\n",
              "</table>\n",
              "<table class=\"simpletable\">\n",
              "<tr>\n",
              "  <th>Omnibus:</th>       <td>15.465</td> <th>  Durbin-Watson:     </th> <td>   0.898</td>\n",
              "</tr>\n",
              "<tr>\n",
              "  <th>Prob(Omnibus):</th> <td> 0.000</td> <th>  Jarque-Bera (JB):  </th> <td>  26.764</td>\n",
              "</tr>\n",
              "<tr>\n",
              "  <th>Skew:</th>          <td>-0.191</td> <th>  Prob(JB):          </th> <td>1.54e-06</td>\n",
              "</tr>\n",
              "<tr>\n",
              "  <th>Kurtosis:</th>      <td> 4.067</td> <th>  Cond. No.          </th> <td>    84.1</td>\n",
              "</tr>\n",
              "</table><br/><br/>Notes:<br/>[1] Standard Errors assume that the covariance matrix of the errors is correctly specified."
            ],
            "text/latex": "\\begin{center}\n\\begin{tabular}{lclc}\n\\toprule\n\\textbf{Dep. Variable:}    &    ln\\_price     & \\textbf{  R-squared:         } &     0.542   \\\\\n\\textbf{Model:}            &       OLS        & \\textbf{  Adj. R-squared:    } &     0.539   \\\\\n\\textbf{Method:}           &  Least Squares   & \\textbf{  F-statistic:       } &     195.4   \\\\\n\\textbf{Date:}             & Sat, 03 May 2025 & \\textbf{  Prob (F-statistic):} &  1.26e-83   \\\\\n\\textbf{Time:}             &     01:52:12     & \\textbf{  Log-Likelihood:    } &   -169.13   \\\\\n\\textbf{No. Observations:} &         500      & \\textbf{  AIC:               } &     346.3   \\\\\n\\textbf{Df Residuals:}     &         496      & \\textbf{  BIC:               } &     363.1   \\\\\n\\textbf{Df Model:}         &           3      & \\textbf{                     } &             \\\\\n\\textbf{Covariance Type:}  &    nonrobust     & \\textbf{                     } &             \\\\\n\\bottomrule\n\\end{tabular}\n\\begin{tabular}{lcccccc}\n                         & \\textbf{coef} & \\textbf{std err} & \\textbf{t} & \\textbf{P$> |$t$|$} & \\textbf{[0.025} & \\textbf{0.975]}  \\\\\n\\midrule\n\\textbf{Intercept}       &       1.2714  &        0.186     &     6.822  &         0.000        &        0.905    &        1.638     \\\\\n\\textbf{ln\\_sqft}        &       1.2410  &        0.057     &    21.819  &         0.000        &        1.129    &        1.353     \\\\\n\\textbf{close}           &       1.9957  &        0.306     &     6.515  &         0.000        &        1.394    &        2.598     \\\\\n\\textbf{close\\_ln\\_sqft} &      -0.5560  &        0.094     &    -5.910  &         0.000        &       -0.741    &       -0.371     \\\\\n\\bottomrule\n\\end{tabular}\n\\begin{tabular}{lclc}\n\\textbf{Omnibus:}       & 15.465 & \\textbf{  Durbin-Watson:     } &    0.898  \\\\\n\\textbf{Prob(Omnibus):} &  0.000 & \\textbf{  Jarque-Bera (JB):  } &   26.764  \\\\\n\\textbf{Skew:}          & -0.191 & \\textbf{  Prob(JB):          } & 1.54e-06  \\\\\n\\textbf{Kurtosis:}      &  4.067 & \\textbf{  Cond. No.          } &     84.1  \\\\\n\\bottomrule\n\\end{tabular}\n%\\caption{OLS Regression Results}\n\\end{center}\n\nNotes: \\newline\n [1] Standard Errors assume that the covariance matrix of the errors is correctly specified."
          },
          "metadata": {},
          "execution_count": 3
        }
      ],
      "source": [
        "##Import necessary packages\n",
        "import numpy as np  # Useful for math calculations\n",
        "import pandas as pd  # Useful for data manipulation\n",
        "import statsmodels.api as sm  # Useful for regression analysis\n",
        "import statsmodels.formula.api as smf  # Required for regression using formulas\n",
        "import matplotlib.pyplot as plt  # Useful for plotting\n",
        "\n",
        "##Load Data\n",
        "ct_df = pd.read_csv(\"/content/collegetown.csv\")\n",
        "ct_df.head()\n",
        "print(ct_df.head())\n",
        "\n",
        "##Interaction Term\n",
        "ct_df[\"close_ln_sqft\"] = ct_df[\"close\"] * np.log(ct_df[\"sqft\"])\n",
        "\n",
        "##Add log(price) and log(sqft) for regression\n",
        "ct_df[\"ln_price\"] = np.log(ct_df[\"price\"])\n",
        "ct_df[\"ln_sqft\"] = np.log(ct_df[\"sqft\"])\n",
        "\n",
        "##Estimate the model\n",
        "model1 = smf.ols(\"ln_price ~ ln_sqft + close + close_ln_sqft\", data=ct_df).fit()\n",
        "\n",
        "# Step 4: Summary of the model\n",
        "model1_summary = model1.summary()\n",
        "model1_summary\n",
        "\n"
      ]
    },
    {
      "cell_type": "markdown",
      "source": [
        "close: this variable is statistically significant with high t value and p = 0.00 < .05\n",
        "\n",
        "close_ln_sqf: this variable is statistically significant with high negative t value and p = 0.00 < .05"
      ],
      "metadata": {
        "id": "5e9OkBX92bda"
      }
    },
    {
      "cell_type": "code",
      "source": [
        "##Predict prices for 2500 sqft homes (close and not close)\n",
        "ln_sqft_2500 = np.log(2500)\n",
        "\n",
        "##Predict for house NOT close to university (close = 0)\n",
        "ln_price_not_close = model1.params['Intercept'] + model1.params['ln_sqft'] * ln_sqft_2500\n",
        "\n",
        "##Predict for house CLOSE to university (close = 1)\n",
        "ln_price_close = (\n",
        "    model1.params['Intercept']\n",
        "    + model1.params['ln_sqft'] * ln_sqft_2500\n",
        "    + model1.params['close']\n",
        "    + model1.params['close_ln_sqft'] * ln_sqft_2500\n",
        ")\n",
        "## Print predicted prices\n",
        "print(f\"Predicted price for 2500 sqft house NOT close to university: ${price_not_close:.2f}\")\n",
        "print(f\"Predicted price for 2500 sqft house CLOSE to university:     ${price_close:.2f}\")\n",
        "\n",
        "##Convert back from log price to actual price\n",
        "price_not_close = np.exp(ln_price_not_close)\n",
        "price_close = np.exp(ln_price_close)\n",
        "\n",
        "##Estimate new model including FIREPLACE, TWOSTORY, OCCUPIED\n",
        "model2 = smf.ols(\"ln_price ~ ln_sqft + close + close_ln_sqft + fireplace + twostory + occupied\", data=ct_df).fit()\n",
        "\n",
        "model2.summary()"
      ],
      "metadata": {
        "colab": {
          "base_uri": "https://localhost:8080/",
          "height": 593
        },
        "id": "HC-BTdaG4NsV",
        "outputId": "25da5c8b-3ca8-4698-bf02-7912a0e0c485"
      },
      "execution_count": null,
      "outputs": [
        {
          "output_type": "stream",
          "name": "stdout",
          "text": [
            "Predicted price for 2500 sqft house NOT close to university: $58771.83\n",
            "Predicted price for 2500 sqft house CLOSE to university:     $5580.40\n"
          ]
        },
        {
          "output_type": "execute_result",
          "data": {
            "text/plain": [
              "<class 'statsmodels.iolib.summary.Summary'>\n",
              "\"\"\"\n",
              "                            OLS Regression Results                            \n",
              "==============================================================================\n",
              "Dep. Variable:               ln_price   R-squared:                       0.578\n",
              "Model:                            OLS   Adj. R-squared:                  0.573\n",
              "Method:                 Least Squares   F-statistic:                     112.7\n",
              "Date:                Sat, 03 May 2025   Prob (F-statistic):           3.87e-89\n",
              "Time:                        02:03:35   Log-Likelihood:                -148.30\n",
              "No. Observations:                 500   AIC:                             310.6\n",
              "Df Residuals:                     493   BIC:                             340.1\n",
              "Df Model:                           6                                         \n",
              "Covariance Type:            nonrobust                                         \n",
              "=================================================================================\n",
              "                    coef    std err          t      P>|t|      [0.025      0.975]\n",
              "---------------------------------------------------------------------------------\n",
              "Intercept         1.5913      0.197      8.075      0.000       1.204       1.979\n",
              "ln_sqft           1.0983      0.063     17.564      0.000       0.975       1.221\n",
              "close             1.8603      0.296      6.280      0.000       1.278       2.442\n",
              "close_ln_sqft    -0.5222      0.091     -5.747      0.000      -0.701      -0.344\n",
              "fireplace         0.0909      0.033      2.786      0.006       0.027       0.155\n",
              "twostory          0.1015      0.047      2.165      0.031       0.009       0.194\n",
              "occupied          0.1608      0.030      5.364      0.000       0.102       0.220\n",
              "==============================================================================\n",
              "Omnibus:                       10.167   Durbin-Watson:                   0.982\n",
              "Prob(Omnibus):                  0.006   Jarque-Bera (JB):               16.878\n",
              "Skew:                          -0.078   Prob(JB):                     0.000216\n",
              "Kurtosis:                       3.886   Cond. No.                         87.6\n",
              "==============================================================================\n",
              "\n",
              "Notes:\n",
              "[1] Standard Errors assume that the covariance matrix of the errors is correctly specified.\n",
              "\"\"\""
            ],
            "text/html": [
              "<table class=\"simpletable\">\n",
              "<caption>OLS Regression Results</caption>\n",
              "<tr>\n",
              "  <th>Dep. Variable:</th>        <td>ln_price</td>     <th>  R-squared:         </th> <td>   0.578</td>\n",
              "</tr>\n",
              "<tr>\n",
              "  <th>Model:</th>                   <td>OLS</td>       <th>  Adj. R-squared:    </th> <td>   0.573</td>\n",
              "</tr>\n",
              "<tr>\n",
              "  <th>Method:</th>             <td>Least Squares</td>  <th>  F-statistic:       </th> <td>   112.7</td>\n",
              "</tr>\n",
              "<tr>\n",
              "  <th>Date:</th>             <td>Sat, 03 May 2025</td> <th>  Prob (F-statistic):</th> <td>3.87e-89</td>\n",
              "</tr>\n",
              "<tr>\n",
              "  <th>Time:</th>                 <td>02:03:35</td>     <th>  Log-Likelihood:    </th> <td> -148.30</td>\n",
              "</tr>\n",
              "<tr>\n",
              "  <th>No. Observations:</th>      <td>   500</td>      <th>  AIC:               </th> <td>   310.6</td>\n",
              "</tr>\n",
              "<tr>\n",
              "  <th>Df Residuals:</th>          <td>   493</td>      <th>  BIC:               </th> <td>   340.1</td>\n",
              "</tr>\n",
              "<tr>\n",
              "  <th>Df Model:</th>              <td>     6</td>      <th>                     </th>     <td> </td>   \n",
              "</tr>\n",
              "<tr>\n",
              "  <th>Covariance Type:</th>      <td>nonrobust</td>    <th>                     </th>     <td> </td>   \n",
              "</tr>\n",
              "</table>\n",
              "<table class=\"simpletable\">\n",
              "<tr>\n",
              "        <td></td>           <th>coef</th>     <th>std err</th>      <th>t</th>      <th>P>|t|</th>  <th>[0.025</th>    <th>0.975]</th>  \n",
              "</tr>\n",
              "<tr>\n",
              "  <th>Intercept</th>     <td>    1.5913</td> <td>    0.197</td> <td>    8.075</td> <td> 0.000</td> <td>    1.204</td> <td>    1.979</td>\n",
              "</tr>\n",
              "<tr>\n",
              "  <th>ln_sqft</th>       <td>    1.0983</td> <td>    0.063</td> <td>   17.564</td> <td> 0.000</td> <td>    0.975</td> <td>    1.221</td>\n",
              "</tr>\n",
              "<tr>\n",
              "  <th>close</th>         <td>    1.8603</td> <td>    0.296</td> <td>    6.280</td> <td> 0.000</td> <td>    1.278</td> <td>    2.442</td>\n",
              "</tr>\n",
              "<tr>\n",
              "  <th>close_ln_sqft</th> <td>   -0.5222</td> <td>    0.091</td> <td>   -5.747</td> <td> 0.000</td> <td>   -0.701</td> <td>   -0.344</td>\n",
              "</tr>\n",
              "<tr>\n",
              "  <th>fireplace</th>     <td>    0.0909</td> <td>    0.033</td> <td>    2.786</td> <td> 0.006</td> <td>    0.027</td> <td>    0.155</td>\n",
              "</tr>\n",
              "<tr>\n",
              "  <th>twostory</th>      <td>    0.1015</td> <td>    0.047</td> <td>    2.165</td> <td> 0.031</td> <td>    0.009</td> <td>    0.194</td>\n",
              "</tr>\n",
              "<tr>\n",
              "  <th>occupied</th>      <td>    0.1608</td> <td>    0.030</td> <td>    5.364</td> <td> 0.000</td> <td>    0.102</td> <td>    0.220</td>\n",
              "</tr>\n",
              "</table>\n",
              "<table class=\"simpletable\">\n",
              "<tr>\n",
              "  <th>Omnibus:</th>       <td>10.167</td> <th>  Durbin-Watson:     </th> <td>   0.982</td>\n",
              "</tr>\n",
              "<tr>\n",
              "  <th>Prob(Omnibus):</th> <td> 0.006</td> <th>  Jarque-Bera (JB):  </th> <td>  16.878</td>\n",
              "</tr>\n",
              "<tr>\n",
              "  <th>Skew:</th>          <td>-0.078</td> <th>  Prob(JB):          </th> <td>0.000216</td>\n",
              "</tr>\n",
              "<tr>\n",
              "  <th>Kurtosis:</th>      <td> 3.886</td> <th>  Cond. No.          </th> <td>    87.6</td>\n",
              "</tr>\n",
              "</table><br/><br/>Notes:<br/>[1] Standard Errors assume that the covariance matrix of the errors is correctly specified."
            ],
            "text/latex": "\\begin{center}\n\\begin{tabular}{lclc}\n\\toprule\n\\textbf{Dep. Variable:}    &    ln\\_price     & \\textbf{  R-squared:         } &     0.578   \\\\\n\\textbf{Model:}            &       OLS        & \\textbf{  Adj. R-squared:    } &     0.573   \\\\\n\\textbf{Method:}           &  Least Squares   & \\textbf{  F-statistic:       } &     112.7   \\\\\n\\textbf{Date:}             & Sat, 03 May 2025 & \\textbf{  Prob (F-statistic):} &  3.87e-89   \\\\\n\\textbf{Time:}             &     02:03:35     & \\textbf{  Log-Likelihood:    } &   -148.30   \\\\\n\\textbf{No. Observations:} &         500      & \\textbf{  AIC:               } &     310.6   \\\\\n\\textbf{Df Residuals:}     &         493      & \\textbf{  BIC:               } &     340.1   \\\\\n\\textbf{Df Model:}         &           6      & \\textbf{                     } &             \\\\\n\\textbf{Covariance Type:}  &    nonrobust     & \\textbf{                     } &             \\\\\n\\bottomrule\n\\end{tabular}\n\\begin{tabular}{lcccccc}\n                         & \\textbf{coef} & \\textbf{std err} & \\textbf{t} & \\textbf{P$> |$t$|$} & \\textbf{[0.025} & \\textbf{0.975]}  \\\\\n\\midrule\n\\textbf{Intercept}       &       1.5913  &        0.197     &     8.075  &         0.000        &        1.204    &        1.979     \\\\\n\\textbf{ln\\_sqft}        &       1.0983  &        0.063     &    17.564  &         0.000        &        0.975    &        1.221     \\\\\n\\textbf{close}           &       1.8603  &        0.296     &     6.280  &         0.000        &        1.278    &        2.442     \\\\\n\\textbf{close\\_ln\\_sqft} &      -0.5222  &        0.091     &    -5.747  &         0.000        &       -0.701    &       -0.344     \\\\\n\\textbf{fireplace}       &       0.0909  &        0.033     &     2.786  &         0.006        &        0.027    &        0.155     \\\\\n\\textbf{twostory}        &       0.1015  &        0.047     &     2.165  &         0.031        &        0.009    &        0.194     \\\\\n\\textbf{occupied}        &       0.1608  &        0.030     &     5.364  &         0.000        &        0.102    &        0.220     \\\\\n\\bottomrule\n\\end{tabular}\n\\begin{tabular}{lclc}\n\\textbf{Omnibus:}       & 10.167 & \\textbf{  Durbin-Watson:     } &    0.982  \\\\\n\\textbf{Prob(Omnibus):} &  0.006 & \\textbf{  Jarque-Bera (JB):  } &   16.878  \\\\\n\\textbf{Skew:}          & -0.078 & \\textbf{  Prob(JB):          } & 0.000216  \\\\\n\\textbf{Kurtosis:}      &  3.886 & \\textbf{  Cond. No.          } &     87.6  \\\\\n\\bottomrule\n\\end{tabular}\n%\\caption{OLS Regression Results}\n\\end{center}\n\nNotes: \\newline\n [1] Standard Errors assume that the covariance matrix of the errors is correctly specified."
          },
          "metadata": {},
          "execution_count": 6
        }
      ]
    },
    {
      "cell_type": "markdown",
      "source": [
        "Predicted price for 2500 sqft house NOT close to university: $58771.83\n",
        "\n",
        "Predicted price for 2500 sqft house CLOSE to university:     $5580.40\n",
        "\n",
        "A house with a fireplace is associated with ~9.1% higher price, all else equal.\n",
        "\n",
        "A two-story house is associated with ~10.2% higher price, all else equal.\n",
        "\n",
        "An occupied house is associated with ~16.1% higher price, all else equal."
      ],
      "metadata": {
        "id": "JsVbVIqw5yI0"
      }
    }
  ]
}