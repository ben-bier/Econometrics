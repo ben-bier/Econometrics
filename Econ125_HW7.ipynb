{
  "nbformat": 4,
  "nbformat_minor": 0,
  "metadata": {
    "colab": {
      "provenance": []
    },
    "kernelspec": {
      "name": "python3",
      "display_name": "Python 3"
    },
    "language_info": {
      "name": "python"
    }
  },
  "cells": [
    {
      "cell_type": "markdown",
      "source": [
        "Benjamin Bierlein 76418644 Econ 125 Spring 2025 HW 7"
      ],
      "metadata": {
        "id": "KwbCPR6-4VtZ"
      }
    },
    {
      "cell_type": "markdown",
      "source": [
        "9.22"
      ],
      "metadata": {
        "id": "AYNKARu19vWj"
      }
    },
    {
      "cell_type": "code",
      "execution_count": null,
      "metadata": {
        "colab": {
          "base_uri": "https://localhost:8080/"
        },
        "id": "qjQZFnum4Bu8",
        "outputId": "1a22e709-b478-42ac-c734-bf0b6f37394c"
      },
      "outputs": [
        {
          "output_type": "stream",
          "name": "stdout",
          "text": [
            "Forecasted Inflation Rates with 95% Confidence Intervals:\n",
            "2016Q2: Forecast = 0.3718, 95% CI = [0.1665, 0.5771]\n",
            "2016Q3: Forecast = 0.4837, 95% CI = [0.3864, 0.5810]\n",
            "2016Q4: Forecast = 0.4825, 95% CI = [0.3967, 0.5684]\n"
          ]
        }
      ],
      "source": [
        "import pandas as pd\n",
        "import statsmodels.formula.api as smf\n",
        "import numpy as np\n",
        "\n",
        "# Load and prepare data\n",
        "df = pd.read_csv(\"phillips5_aus.csv\")\n",
        "df.rename(columns={'inf': 'infl'}, inplace=True)\n",
        "df['infl_lag1'] = df['infl'].shift(1)\n",
        "df['infl_lag4'] = df['infl'].shift(4)\n",
        "data = df.dropna(subset=['infl', 'infl_lag1', 'infl_lag4', 'du'])\n",
        "\n",
        "# Fit model\n",
        "model = smf.ols('infl ~ infl_lag1 + infl_lag4 + du', data=data).fit(cov_type='HAC', cov_kwds={'maxlags': 4})\n",
        "\n",
        "# Forecast inflation for 2016Q2–Q4\n",
        "forecast_values = []\n",
        "conf_intervals = []\n",
        "last_obs = data.iloc[-1]\n",
        "\n",
        "print(\"Forecasted Inflation Rates with 95% Confidence Intervals:\")\n",
        "for q in ['2016Q2', '2016Q3', '2016Q4']:\n",
        "    X_pred = pd.DataFrame([{\n",
        "        'infl_lag1': last_obs['infl'],\n",
        "        'infl_lag4': data.iloc[-4]['infl'],\n",
        "        'du': 0\n",
        "    }])\n",
        "    pred = model.get_prediction(X_pred)\n",
        "    mean = pred.predicted_mean[0]\n",
        "    ci = pred.conf_int(alpha=0.05)[0]\n",
        "    print(f\"{q}: Forecast = {mean:.4f}, 95% CI = [{ci[0]:.4f}, {ci[1]:.4f}]\")\n",
        "\n",
        "    new_row = {'infl': mean, 'infl_lag1': last_obs['infl'], 'infl_lag4': data.iloc[-4]['infl'], 'du': 0}\n",
        "    data = pd.concat([data, pd.DataFrame([new_row])], ignore_index=True)\n",
        "    last_obs = new_row\n",
        "\n",
        "\n"
      ]
    },
    {
      "cell_type": "markdown",
      "source": [
        "9.25"
      ],
      "metadata": {
        "id": "I4cbE3jd9xLe"
      }
    },
    {
      "cell_type": "code",
      "source": [
        "# Load and prepare data\n",
        "df = pd.read_csv(\"cons_inc.csv\")\n",
        "df['DC'] = df['cons'].diff()\n",
        "df['DY'] = df['y'].diff()\n",
        "df['DC_lag1'] = df['DC'].shift(1)\n",
        "df['DY_lag3'] = df['DY'].shift(3)\n",
        "df = df.dropna(subset=['DC', 'DY', 'DC_lag1', 'DY_lag3'])\n",
        "\n",
        "# Estimate both models\n",
        "model1 = smf.ols(\"DC ~ DC_lag1 + DY\", data=df).fit()\n",
        "model2 = smf.ols(\"DC ~ DY + DY_lag3\", data=df).fit()\n",
        "\n",
        "# Forecast consumption for 2016Q1–Q3\n",
        "last_index = df.index[-4]\n",
        "future_df = df.iloc[-3:]\n",
        "prev_dc = df.loc[last_index, 'DC']\n",
        "prev_c = df.loc[last_index, 'cons']\n",
        "\n",
        "# Model 1: Recursive\n",
        "model1_forecasts = []\n",
        "for i in range(3):\n",
        "    dc_pred = model1.params['Intercept'] + model1.params['DC_lag1'] * prev_dc + model1.params['DY'] * future_df.iloc[i]['DY']\n",
        "    prev_dc = dc_pred\n",
        "    prev_c += dc_pred\n",
        "    model1_forecasts.append(round(prev_c, 0))\n",
        "\n",
        "# Model 2: Non-recursive\n",
        "prev_c = df.loc[last_index, 'cons']\n",
        "model2_forecasts = []\n",
        "for i in range(3):\n",
        "    dc_pred = model2.params['Intercept'] + model2.params['DY'] * future_df.iloc[i]['DY'] + model2.params['DY_lag3'] * future_df.iloc[i]['DY_lag3']\n",
        "    prev_c += dc_pred\n",
        "    model2_forecasts.append(round(prev_c, 0))\n",
        "\n",
        "# Compare to actual consumption\n",
        "actual_c = df.iloc[-3:]['cons'].values\n",
        "msfe1 = np.mean((np.array(model1_forecasts) - actual_c)**2)\n",
        "msfe2 = np.mean((np.array(model2_forecasts) - actual_c)**2)\n",
        "\n",
        "# Print results\n",
        "print(\"\\nForecasted Consumption (Model 1):\")\n",
        "for i, q in enumerate([\"2016Q1\", \"2016Q2\", \"2016Q3\"]):\n",
        "    print(f\"{q}: Forecast = {model1_forecasts[i]:,.0f}, Actual = {actual_c[i]:,.0f}\")\n",
        "\n",
        "print(\"\\nForecasted Consumption (Model 2):\")\n",
        "for i, q in enumerate([\"2016Q1\", \"2016Q2\", \"2016Q3\"]):\n",
        "    print(f\"{q}: Forecast = {model2_forecasts[i]:,.0f}, Actual = {actual_c[i]:,.0f}\")\n",
        "\n",
        "print(f\"\\nMSFE for Model 1: {msfe1:.2f}\")\n",
        "print(f\"MSFE for Model 2: {msfe2:.2f}\")"
      ],
      "metadata": {
        "colab": {
          "base_uri": "https://localhost:8080/"
        },
        "id": "X8QJvdoJ9yQO",
        "outputId": "538e80e9-7a2b-41ed-edab-fcd9a0ed010b"
      },
      "execution_count": null,
      "outputs": [
        {
          "output_type": "stream",
          "name": "stdout",
          "text": [
            "\n",
            "Forecasted Consumption (Model 1):\n",
            "2016Q1: Forecast = 236,395, Actual = 236,523\n",
            "2016Q2: Forecast = 237,625, Actual = 237,613\n",
            "2016Q3: Forecast = 238,793, Actual = 238,664\n",
            "\n",
            "Forecasted Consumption (Model 2):\n",
            "2016Q1: Forecast = 235,913, Actual = 236,523\n",
            "2016Q2: Forecast = 236,716, Actual = 237,613\n",
            "2016Q3: Forecast = 237,685, Actual = 238,664\n",
            "\n",
            "MSFE for Model 1: 11056.33\n",
            "MSFE for Model 2: 711716.67\n"
          ]
        }
      ]
    },
    {
      "cell_type": "markdown",
      "source": [
        "12.7"
      ],
      "metadata": {
        "id": "hkPQ4BjN9yy2"
      }
    },
    {
      "cell_type": "code",
      "source": [
        "# Load macro data\n",
        "df = pd.read_csv(\"usmacro.csv\")\n",
        "\n",
        "# Run ADF tests\n",
        "adf_u = adfuller(df['u'].dropna(), maxlag=1, regression='c', autolag=None)\n",
        "adf_g = adfuller(df['g'].dropna(), maxlag=0, regression='c', autolag=None)\n",
        "adf_inf = adfuller(df['inf'].dropna(), maxlag=2, regression='c', autolag=None)\n",
        "\n",
        "# Print ADF results\n",
        "print(\"\\nADF Test Results (using constant only):\")\n",
        "print(f\"Unemployment: ADF = {adf_u[0]:.4f}, p = {adf_u[1]:.5f}, lags = {adf_u[2]} → {'Stationary' if adf_u[1] < 0.05 else 'Non-stationary'}\")\n",
        "print(f\"GDP Growth:   ADF = {adf_g[0]:.4f}, p = {adf_g[1]:.5f}, lags = {adf_g[2]} → {'Stationary' if adf_g[1] < 0.05 else 'Non-stationary'}\")\n",
        "print(f\"Inflation:    ADF = {adf_inf[0]:.4f}, p = {adf_inf[1]:.5f}, lags = {adf_inf[2]} → {'Stationary' if adf_inf[1] < 0.05 else 'Non-stationary'}\")"
      ],
      "metadata": {
        "colab": {
          "base_uri": "https://localhost:8080/"
        },
        "id": "GYyecizT90BC",
        "outputId": "bf981c34-43fb-44a9-cb2b-2cf1630a04a2"
      },
      "execution_count": null,
      "outputs": [
        {
          "output_type": "stream",
          "name": "stdout",
          "text": [
            "\n",
            "ADF Test Results (using constant only):\n",
            "Unemployment: ADF = -4.4759, p = 0.00022, lags = 1 → Stationary\n",
            "GDP Growth:   ADF = -9.3452, p = 0.00000, lags = 0 → Stationary\n",
            "Inflation:    ADF = -3.9861, p = 0.00148, lags = 2 → Stationary\n"
          ]
        }
      ]
    }
  ]
}