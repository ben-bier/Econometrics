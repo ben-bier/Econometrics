{
  "nbformat": 4,
  "nbformat_minor": 0,
  "metadata": {
    "colab": {
      "provenance": []
    },
    "kernelspec": {
      "name": "python3",
      "display_name": "Python 3"
    },
    "language_info": {
      "name": "python"
    }
  },
  "cells": [
    {
      "cell_type": "markdown",
      "source": [
        "Benjamin Bierlein 76418644 Econ 125 HW 8 Spring 2025"
      ],
      "metadata": {
        "id": "hpfBk912Dcei"
      }
    },
    {
      "cell_type": "code",
      "source": [
        "#Problem 1\n",
        "\n",
        "import pandas as pd\n",
        "import numpy as np\n",
        "import statsmodels.api as sm\n",
        "\n",
        "# Load rwm88.csv\n",
        "rwm = pd.read_csv(\"/content/rwm88.csv\")\n",
        "rwm = rwm[rwm['hhninc2'] > 0].copy().iloc[:3000]\n",
        "rwm['linc'] = np.log(rwm['hhninc2'])\n",
        "rwm['age2'] = rwm['age'] ** 2\n",
        "rwm['post'] = ((rwm['fachhs'] == 1) | (rwm['univ'] == 1)).astype(int)\n",
        "\n",
        "# Define response and regressors\n",
        "y_rwm = rwm['docvis']\n",
        "X_rwm = rwm[['female', 'age', 'age2', 'self', 'linc', 'post', 'public']]\n",
        "X_rwm = sm.add_constant(X_rwm)\n",
        "\n",
        "# Fit Poisson model\n",
        "poisson_model = sm.GLM(y_rwm, X_rwm, family=sm.families.Poisson()).fit()\n",
        "coef_dict = poisson_model.params\n",
        "\n",
        "# Binary variable percent change\n",
        "perc_change_bin = pd.DataFrame({\n",
        "    \"Variable\": [\"Female\", \"Self-employed\", \"Post-secondary\", \"Public Insurance\"],\n",
        "    \"Percent Change in E[Visits]\": (np.exp(coef_dict[['female', 'self', 'post', 'public']]) - 1).round(4) * 100\n",
        "})\n",
        "\n",
        "# Age marginal effects\n",
        "b_age = coef_dict['age']\n",
        "b_age2 = coef_dict['age2']\n",
        "ages = np.array([30, 50, 70])\n",
        "age_effects = pd.DataFrame({\n",
        "    \"Age\": ages,\n",
        "    \"Marginal Effect on log(E[Visits]) (%)\": (100 * (b_age + 2 * b_age2 * ages)).round(2)\n",
        "})\n",
        "\n",
        "# LINC coefficient interpretation\n",
        "linc_effect = round(100 * coef_dict['linc'], 2)\n",
        "\n",
        "(perc_change_bin, age_effects, f\"A 1% increase in income changes expected visits by {linc_effect}%\")\n"
      ],
      "metadata": {
        "colab": {
          "base_uri": "https://localhost:8080/"
        },
        "id": "I9kNVYmxBvAz",
        "outputId": "fce383d5-af7d-40c7-938b-4c0d61f1551e"
      },
      "execution_count": null,
      "outputs": [
        {
          "output_type": "execute_result",
          "data": {
            "text/plain": [
              "(                Variable  Percent Change in E[Visits]\n",
              " female            Female                        16.44\n",
              " self       Self-employed                       -44.82\n",
              " post      Post-secondary                       -18.42\n",
              " public  Public Insurance                        18.06,\n",
              "    Age  Marginal Effect on log(E[Visits]) (%)\n",
              " 0   30                                  -0.57\n",
              " 1   50                                   2.84\n",
              " 2   70                                   6.26,\n",
              " 'A 1% increase in income changes expected visits by -7.69%')"
            ]
          },
          "metadata": {},
          "execution_count": 4
        }
      ]
    },
    {
      "cell_type": "markdown",
      "source": [
        "1)\n",
        "\n",
        "FEMALE: The coefficient indicates that being female increases the expected number of doctor visits by 16.44%, holding all else constant. This aligns with expectations, as women often utilize healthcare services more frequently.\n",
        "\n",
        "SELF (self-employed): The coefficient is negative and statistically significant. Being self-employed is associated with a 44.82% decrease in the expected number of doctor visits. This may reflect less access to employer-provided health insurance or less time availability.\n",
        "\n",
        "POST (post-secondary education): Having a post-secondary degree is associated with an 18.42% decrease in doctor visits. This could suggest that more educated individuals maintain better preventive care or are healthier overall.\n",
        "\n",
        "PUBLIC: Being covered by public health insurance increases expected visits by 18.06%, possibly due to easier access to care or different utilization behavior compared to those with private insurance.\n",
        "\n",
        "2)\n",
        "\n",
        "At age 30: A one-year increase in age leads to a −0.57% change in expected doctor visits.\n",
        "\n",
        "At age 50: The marginal effect becomes positive, with a +2.84% increase.\n",
        "\n",
        "At age 70: The effect grows further, with a +6.26% increase.\n",
        "\n",
        "3)\n",
        "\n",
        "The coefficient on log income is −0.0769, meaning a 1% increase in income leads to a 0.077% decrease in expected doctor visits.\n",
        "\n",
        "Interpreted elastically, this suggests that higher-income individuals might visit doctors less frequently (possibly due to better overall health or different utilization patterns).\n",
        "\n"
      ],
      "metadata": {
        "id": "VpsZHVtUDbwc"
      }
    },
    {
      "cell_type": "code",
      "source": [
        "#Problem 2\n",
        "\n",
        "from scipy.stats import norm\n",
        "from scipy.optimize import minimize\n",
        "\n",
        "# Load and prepare data\n",
        "cex = pd.read_csv(\"/content/cex5.csv\")\n",
        "X = cex[['income', 'smsa', 'advanced', 'college', 'older']]\n",
        "X = sm.add_constant(X)\n",
        "y = cex['appar']\n",
        "\n",
        "# Linear regression (OLS)\n",
        "ols_model = sm.OLS(y, X).fit()\n",
        "ols_results = pd.DataFrame({\n",
        "    \"Variable\": X.columns,\n",
        "    \"Coefficient\": ols_model.params.round(4)\n",
        "})\n",
        "\n",
        "# Probit model\n",
        "cex['shop'] = (cex['appar'] > 0).astype(int)\n",
        "probit_model = sm.Probit(cex['shop'], X).fit()\n",
        "probit_results = pd.DataFrame({\n",
        "    \"Variable\": X.columns,\n",
        "    \"Coefficient\": probit_model.params.round(4)\n",
        "})\n",
        "\n",
        "# Tobit model log-likelihood\n",
        "def tobit_loglike(params):\n",
        "    beta = params[:-1]\n",
        "    sigma = np.exp(params[-1])\n",
        "    xb = np.dot(X, beta)\n",
        "    ll = np.where(y > 0,\n",
        "                  np.log(norm.pdf((y - xb) / sigma)) - np.log(sigma),\n",
        "                  np.log(norm.cdf(-xb / sigma)))\n",
        "    return -np.sum(ll)\n",
        "\n",
        "init_params = np.append(np.zeros(X.shape[1]), np.log(np.std(y)))\n",
        "opt = minimize(tobit_loglike, init_params, method='BFGS')\n",
        "b_hat = opt.x\n",
        "se = np.sqrt(np.diag(opt.hess_inv))\n",
        "sigma_hat = np.exp(b_hat[-1])\n",
        "\n",
        "# Tobit coefficient table\n",
        "tobit_results = pd.DataFrame({\n",
        "    \"Variable\": X.columns,\n",
        "    \"Coefficient\": b_hat[:-1].round(4),\n",
        "    \"Std. Error\": se[:-1].round(4)\n",
        "})\n",
        "\n",
        "# Prediction using Tobit\n",
        "x1 = np.array([1, 65000 / 100, 1, 1, 0, 0])\n",
        "x2 = np.array([1, 125000 / 100, 1, 1, 0, 0])\n",
        "mu1 = np.dot(x1, b_hat[:-1])\n",
        "mu2 = np.dot(x2, b_hat[:-1])\n",
        "Ey1 = norm.cdf(mu1 / sigma_hat) * (mu1 + sigma_hat * norm.pdf(mu1 / sigma_hat) / norm.cdf(mu1 / sigma_hat))\n",
        "Ey2 = norm.cdf(mu2 / sigma_hat) * (mu2 + sigma_hat * norm.pdf(mu2 / sigma_hat) / norm.cdf(mu2 / sigma_hat))\n",
        "\n",
        "predictions = pd.DataFrame({\n",
        "    \"Scenario\": [\"$65k income, urban, advanced degree\", \"$125k income, urban, advanced degree\"],\n",
        "    \"Predicted Monthly Apparel Spending\": [round(Ey1, 2), round(Ey2, 2)]\n",
        "})\n",
        "\n",
        "(ols_results, probit_results, tobit_results, predictions)\n"
      ],
      "metadata": {
        "colab": {
          "base_uri": "https://localhost:8080/"
        },
        "id": "bqec75aLB4GD",
        "outputId": "a3b5c412-08ed-41c8-f48b-77fdf3f06df7"
      },
      "execution_count": null,
      "outputs": [
        {
          "output_type": "stream",
          "name": "stdout",
          "text": [
            "Optimization terminated successfully.\n",
            "         Current function value: 0.619399\n",
            "         Iterations 5\n"
          ]
        },
        {
          "output_type": "execute_result",
          "data": {
            "text/plain": [
              "(          Variable  Coefficient\n",
              " const        const       2.8156\n",
              " income      income       0.1656\n",
              " smsa          smsa       6.3788\n",
              " advanced  advanced      12.9188\n",
              " college    college       2.6626\n",
              " older        older      -5.7041,\n",
              "           Variable  Coefficient\n",
              " const        const      -0.0429\n",
              " income      income       0.0022\n",
              " smsa          smsa       0.1781\n",
              " advanced  advanced       0.4554\n",
              " college    college       0.3171\n",
              " older        older      -0.3200,\n",
              "    Variable  Coefficient  Std. Error\n",
              " 0     const     -24.7875      4.2716\n",
              " 1    income       0.2206      0.0329\n",
              " 2      smsa      11.1638      4.0074\n",
              " 3  advanced      22.5224      3.4200\n",
              " 4   college       9.7091      2.9620\n",
              " 5     older     -14.0623      0.1843,\n",
              "                                Scenario  Predicted Monthly Apparel Spending\n",
              " 0   $65k income, urban, advanced degree                              152.40\n",
              " 1  $125k income, urban, advanced degree                              284.65)"
            ]
          },
          "metadata": {},
          "execution_count": 6
        }
      ]
    },
    {
      "cell_type": "markdown",
      "source": [
        "1)\n",
        "INCOME: Each additional $100 of household income increases apparel spending by $0.17 per person, on average.\n",
        "\n",
        "SMSA: Living in an urban area is associated with $6.38 more in apparel spending, likely reflecting access to more shopping or fashion-oriented culture.\n",
        "\n",
        "ADVANCED: Households where someone holds an advanced degree spend about $12.92 more per person.\n",
        "\n",
        "COLLEGE: College degree holders spend $2.66 more, though this effect is smaller and less significant than advanced degrees.\n",
        "\n",
        "OLDER: Households with someone 65+ spend about $5.70 less, possibly due to different spending priorities or fixed incomes\n",
        "\n",
        "2)\n",
        "INCOME, SMSA, ADVANCED, and COLLEGE all positively affect the probability of spending on apparel.\n",
        "\n",
        "OLDER has a negative effect: households with elderly members are less likely to purchase apparel.\n",
        "\n",
        "These signs are consistent with the OLS model, supporting the same relationships.\n",
        "\n",
        "3)\n",
        "Interpretation of Key Coefficients:\n",
        "Income: Strongly positive effect on apparel spending.\n",
        "\n",
        "SMSA and ADVANCED: Both show large, significant positive effects, suggesting urban and highly educated households are bigger apparel spenders.\n",
        "\n",
        "OLDER: Negative and significant, aligning with earlier models.\n",
        "\n",
        "Predictions for Apparel Spending:\n",
        "A household living in an urban area, with income of 65,000 and an advanced degree no one 65 above, is predicted to spend about $152.40/month.\n",
        "\n",
        "The same household with 125,000 income is predicted to spend about $284.65/month.\n",
        "\n"
      ],
      "metadata": {
        "id": "haCARQSwFEyu"
      }
    }
  ]
}