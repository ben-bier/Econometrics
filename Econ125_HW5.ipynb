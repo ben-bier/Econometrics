{
  "nbformat": 4,
  "nbformat_minor": 0,
  "metadata": {
    "colab": {
      "provenance": []
    },
    "kernelspec": {
      "name": "python3",
      "display_name": "Python 3"
    },
    "language_info": {
      "name": "python"
    }
  },
  "cells": [
    {
      "cell_type": "markdown",
      "source": [
        "\\Benjamin Bierlein 7641866 Econ 125 Spring 2025 HW 5"
      ],
      "metadata": {
        "id": "S0m_Ah3B3reM"
      }
    },
    {
      "cell_type": "markdown",
      "source": [
        "a)"
      ],
      "metadata": {
        "id": "lJwGJSmc4jdz"
      }
    },
    {
      "cell_type": "code",
      "execution_count": null,
      "metadata": {
        "id": "ebJoH-iB3W8Y",
        "colab": {
          "base_uri": "https://localhost:8080/"
        },
        "outputId": "c67cc1d0-430c-44bb-bc03-9477eb125181"
      },
      "outputs": [
        {
          "output_type": "stream",
          "name": "stdout",
          "text": [
            "   miles  income  age  kids\n",
            "0    902      41   26     0\n",
            "1    491      31   38     3\n",
            "2   1841      87   40     2\n",
            "3    406      54   48     4\n",
            "4      0      77   43     4\n",
            "                            OLS Regression Results                            \n",
            "==============================================================================\n",
            "Dep. Variable:                  miles   R-squared:                       0.341\n",
            "Model:                            OLS   Adj. R-squared:                  0.331\n",
            "Method:                 Least Squares   F-statistic:                     44.66\n",
            "Date:                Sat, 17 May 2025   Prob (F-statistic):           4.86e-22\n",
            "Time:                        03:33:03   Log-Likelihood:                -1504.6\n",
            "No. Observations:                 200   AIC:                             3017.\n",
            "Df Residuals:                     196   BIC:                             3030.\n",
            "Df Model:                           3                                         \n",
            "Covariance Type:                  HC1                                         \n",
            "==============================================================================\n",
            "                 coef    std err          z      P>|z|      [0.025      0.975]\n",
            "------------------------------------------------------------------------------\n",
            "Intercept   -391.5480    142.655     -2.745      0.006    -671.146    -111.950\n",
            "income        14.2013      1.939      7.325      0.000      10.401      18.001\n",
            "age           15.7409      3.966      3.969      0.000       7.968      23.514\n",
            "kids         -81.8264     29.154     -2.807      0.005    -138.968     -24.685\n",
            "==============================================================================\n",
            "Omnibus:                        2.498   Durbin-Watson:                   1.948\n",
            "Prob(Omnibus):                  0.287   Jarque-Bera (JB):                2.383\n",
            "Skew:                          -0.090   Prob(JB):                        0.304\n",
            "Kurtosis:                       3.504   Cond. No.                         418.\n",
            "==============================================================================\n",
            "\n",
            "Notes:\n",
            "[1] Standard Errors are heteroscedasticity robust (HC1)\n",
            "\n",
            "=== OLS Coefficients with Robust Standard Errors (HC1) ===\n",
            " Intercept: Coef = -391.548, Robust SE =  142.655\n",
            "    income: Coef =   14.201, Robust SE =    1.939\n",
            "       age: Coef =   15.741, Robust SE =    3.966\n",
            "      kids: Coef =  -81.826, Robust SE =   29.154\n"
          ]
        }
      ],
      "source": [
        "## Import necessary packages\n",
        "import numpy as np  # Useful for math calculations\n",
        "import pandas as pd  # Useful for data manipulation\n",
        "import statsmodels.api as sm  # Useful for regression analysis\n",
        "import statsmodels.formula.api as smf  # Required for regression using formulas\n",
        "import matplotlib.pyplot as plt  # Useful for plotting\n",
        "\n",
        "# Load Data\n",
        "vac_df = pd.read_csv(\"/content/vacation.csv\")\n",
        "print(vac_df.head())\n",
        "\n",
        "# Fit OLS model with robust standard errors\n",
        "ols_model = smf.ols('miles ~ income + age + kids', data=vac_df).fit(cov_type='HC1')\n",
        "\n",
        "# Extract OLS estimates and robust standard errors\n",
        "ols_summary = ols_model.summary()\n",
        "print(ols_summary)\n",
        "\n",
        "# Print robust SEs next to coefficients\n",
        "print(\"\\n=== OLS Coefficients with Robust Standard Errors (HC1) ===\")\n",
        "for param, coef, robust_se in zip(\n",
        "    ols_model.params.index,\n",
        "    ols_model.params.values,\n",
        "    ols_model.bse.values\n",
        "):\n",
        "    print(f\"{param:>10}: Coef = {coef:>8.3f}, Robust SE = {robust_se:>8.3f}\")\n"
      ]
    },
    {
      "cell_type": "markdown",
      "source": [],
      "metadata": {
        "id": "3jl6KpTjSUHx"
      }
    },
    {
      "cell_type": "markdown",
      "source": [
        "b)"
      ],
      "metadata": {
        "id": "R1WH8i3m4nfn"
      }
    },
    {
      "cell_type": "code",
      "source": [
        "# Define missing squared and interaction terms explicitly\n",
        "vac_df['income_sq'] = vac_df['income'] ** 2\n",
        "vac_df['age_sq'] = vac_df['age'] ** 2\n",
        "vac_df['kids_sq'] = vac_df['kids'] ** 2\n",
        "\n",
        "vac_df['income_age'] = vac_df['income'] * vac_df['age']\n",
        "vac_df['income_kids'] = vac_df['income'] * vac_df['kids']\n",
        "vac_df['age_kids'] = vac_df['age'] * vac_df['kids']\n",
        "\n",
        "# Re-run variance regression\n",
        "variance_formula = 'residuals_sq_log ~ income + age + kids + income_sq + age_sq + kids_sq + income_age + income_kids + age_kids'\n",
        "var_model = smf.ols(variance_formula, data=vac_df).fit()\n",
        "\n",
        "# Get predicted variances and calculate weights\n",
        "predicted_log_var = var_model.fittedvalues\n",
        "weights = np.exp(-predicted_log_var)\n",
        "\n",
        "# FGLS model using WLS\n",
        "fgls_model = smf.wls('miles ~ income + age + kids', data=vac_df, weights=weights).fit()\n",
        "\n",
        "# Format results\n",
        "fgls_results = pd.DataFrame({\n",
        "    \"Coefficient\": fgls_model.params,\n",
        "    \"Std. Error\": fgls_model.bse\n",
        "})\n",
        "\n",
        "print(fgls_model.summary())\n"
      ],
      "metadata": {
        "colab": {
          "base_uri": "https://localhost:8080/"
        },
        "id": "M5wQmZwR4oVw",
        "outputId": "cf8301c0-0f9a-4bd8-d6b0-7caf6f138b5d"
      },
      "execution_count": null,
      "outputs": [
        {
          "output_type": "stream",
          "name": "stdout",
          "text": [
            "                            WLS Regression Results                            \n",
            "==============================================================================\n",
            "Dep. Variable:                  miles   R-squared:                       0.659\n",
            "Model:                            WLS   Adj. R-squared:                  0.654\n",
            "Method:                 Least Squares   F-statistic:                     126.1\n",
            "Date:                Tue, 13 May 2025   Prob (F-statistic):           1.58e-45\n",
            "Time:                        23:15:49   Log-Likelihood:                -1483.9\n",
            "No. Observations:                 200   AIC:                             2976.\n",
            "Df Residuals:                     196   BIC:                             2989.\n",
            "Df Model:                           3                                         \n",
            "Covariance Type:            nonrobust                                         \n",
            "==============================================================================\n",
            "                 coef    std err          t      P>|t|      [0.025      0.975]\n",
            "------------------------------------------------------------------------------\n",
            "Intercept   -389.2648     76.911     -5.061      0.000    -540.943    -237.586\n",
            "income        13.6744      1.216     11.241      0.000      11.275      16.073\n",
            "age           16.6281      2.762      6.021      0.000      11.181      22.075\n",
            "kids         -90.7433     22.078     -4.110      0.000    -134.284     -47.202\n",
            "==============================================================================\n",
            "Omnibus:                        2.019   Durbin-Watson:                   1.903\n",
            "Prob(Omnibus):                  0.364   Jarque-Bera (JB):                1.955\n",
            "Skew:                          -0.241   Prob(JB):                        0.376\n",
            "Kurtosis:                       2.945   Cond. No.                         225.\n",
            "==============================================================================\n",
            "\n",
            "Notes:\n",
            "[1] Standard Errors assume that the covariance matrix of the errors is correctly specified.\n"
          ]
        }
      ]
    }
  ]
}